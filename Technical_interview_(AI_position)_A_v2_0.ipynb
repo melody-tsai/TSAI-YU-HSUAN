{
  "nbformat": 4,
  "nbformat_minor": 0,
  "metadata": {
    "colab": {
      "provenance": [],
      "include_colab_link": true
    },
    "kernelspec": {
      "name": "python3",
      "display_name": "Python 3"
    },
    "language_info": {
      "name": "python"
    }
  },
  "cells": [
    {
      "cell_type": "markdown",
      "metadata": {
        "id": "view-in-github",
        "colab_type": "text"
      },
      "source": [
        "<a href=\"https://colab.research.google.com/github/melody-tsai/TSAI-YU-HSUAN/blob/main/Technical_interview_(AI_position)_A_v2_0.ipynb\" target=\"_parent\"><img src=\"https://colab.research.google.com/assets/colab-badge.svg\" alt=\"Open In Colab\"/></a>"
      ]
    },
    {
      "cell_type": "markdown",
      "source": [
        "**筆試題目是為公司不公開之營業秘密 ，未經同意，勿用任何形式方式進行轉錄!!!**\n",
        "\n",
        "---\n",
        "\n"
      ],
      "metadata": {
        "id": "6RE5DEEzsPBj"
      }
    },
    {
      "cell_type": "markdown",
      "source": [
        "檔案名稱設定為 **Technical interview (AI position) v2.0_姓名**\n",
        "\n",
        "---\n",
        "\n"
      ],
      "metadata": {
        "id": "TjQIOOajygsd"
      }
    },
    {
      "cell_type": "markdown",
      "source": [
        "# A. Read the paper https://ieeexplore.ieee.org/abstract/document/8952723 and answer the following questions."
      ],
      "metadata": {
        "id": "3Pci49WryJY0"
      }
    },
    {
      "cell_type": "markdown",
      "source": [],
      "metadata": {
        "id": "RovcMSj3y0e7"
      }
    },
    {
      "cell_type": "markdown",
      "source": [
        "1. What are the pros and cons of the model presented in this paper?"
      ],
      "metadata": {
        "id": "TJnDdLgoIdzf"
      }
    },
    {
      "cell_type": "markdown",
      "source": [],
      "metadata": {
        "id": "7AOnTGMVj7Qq"
      }
    },
    {
      "cell_type": "markdown",
      "source": [
        "2. How many different layers are used in the model, and what is the function of each layer?"
      ],
      "metadata": {
        "id": "zkev2BRII4JG"
      }
    },
    {
      "cell_type": "markdown",
      "source": [],
      "metadata": {
        "id": "yiUyekQZj7_B"
      }
    },
    {
      "cell_type": "markdown",
      "source": [
        "3. How do you imporve this model?"
      ],
      "metadata": {
        "id": "qgJkJ4LuJTom"
      }
    },
    {
      "cell_type": "code",
      "source": [],
      "metadata": {
        "id": "GOeRyqI-8IR4"
      },
      "execution_count": null,
      "outputs": []
    },
    {
      "cell_type": "markdown",
      "source": [
        "# B. Implementation"
      ],
      "metadata": {
        "id": "fDyn0vI-xftE"
      }
    },
    {
      "cell_type": "markdown",
      "source": [
        "Tips: Recall and Specificity are among the most critical metrics in medical applications. Aim to achieve 95%(Average) for both metrics."
      ],
      "metadata": {
        "id": "eDBVop8aj-WL"
      }
    },
    {
      "cell_type": "markdown",
      "source": [
        "Step 1: Download the **MIT-BIH Arrhythmia dataset** from Kaggle. https://www.kaggle.com/datasets/shayanfazeli/heartbeat"
      ],
      "metadata": {
        "id": "2hldf9c9Kmai"
      }
    },
    {
      "cell_type": "code",
      "source": [
        "import kagglehub\n",
        "\n",
        "# Download latest version\n",
        "path = kagglehub.dataset_download(\"shayanfazeli/heartbeat\")\n",
        "\n",
        "print(\"Path to dataset files:\", path)"
      ],
      "metadata": {
        "id": "GhUZwJQyj43c"
      },
      "execution_count": null,
      "outputs": []
    },
    {
      "cell_type": "markdown",
      "source": [
        "Step 2: Data preprocessing (If applicable)"
      ],
      "metadata": {
        "id": "8T-UhlkVMz6d"
      }
    },
    {
      "cell_type": "code",
      "source": [],
      "metadata": {
        "id": "VJ6AtD_rj3YH"
      },
      "execution_count": null,
      "outputs": []
    },
    {
      "cell_type": "markdown",
      "source": [
        "Step 3: Building model (5 classes)"
      ],
      "metadata": {
        "id": "eM-FNrC5MMox"
      }
    },
    {
      "cell_type": "code",
      "source": [],
      "metadata": {
        "id": "BRvF70Njj2Ld"
      },
      "execution_count": null,
      "outputs": []
    },
    {
      "cell_type": "markdown",
      "source": [
        "Step 4: Model training and save model"
      ],
      "metadata": {
        "id": "3RwiH3ls0TEK"
      }
    },
    {
      "cell_type": "code",
      "source": [],
      "metadata": {
        "id": "f9c_fnXTjzfV"
      },
      "execution_count": null,
      "outputs": []
    },
    {
      "cell_type": "markdown",
      "source": [
        "Step 5: Output confusion matrix"
      ],
      "metadata": {
        "id": "Ati9HtS20WNJ"
      }
    },
    {
      "cell_type": "code",
      "source": [],
      "metadata": {
        "id": "nvtfKt-ajxqr"
      },
      "execution_count": null,
      "outputs": []
    },
    {
      "cell_type": "markdown",
      "source": [
        "Step 6: Output **Recall, Specificity, Precision, and F1 score** of each classes and a total **Accuracy**."
      ],
      "metadata": {
        "id": "n5oeUd3U0wCr"
      }
    },
    {
      "cell_type": "code",
      "source": [],
      "metadata": {
        "id": "nwQ8zWDpjvqb"
      },
      "execution_count": null,
      "outputs": []
    },
    {
      "cell_type": "markdown",
      "source": [],
      "metadata": {
        "id": "A3dS8BATkDh4"
      }
    }
  ]
}