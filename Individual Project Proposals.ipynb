{
 "cells": [
  {
   "cell_type": "markdown",
   "id": "63817800",
   "metadata": {},
   "source": [
    "### Relations between body image, Big Five personality traits and social time and days\n",
    "#### Research Question\n",
    "-  Will Big Five personality traits affect self-perception and adaptability?\n",
    "-  Will social days and times cause people to have a comparative mentality, test body image satisfaction to see whether it is affected?\n",
    "-  Will Big Five personality traits affect Social time and days?"
   ]
  },
  {
   "cell_type": "markdown",
   "id": "0fa6f08a",
   "metadata": {},
   "source": [
    "### Variables to use\n",
    "1. **Body Image Variables**:\n",
    "   - `PSYCH_body_self_image_questionnaire_height_dissatisfaction_score`\n",
    "   - `PSYCH_body_self_image_questionnaire_fatness_evaluation_score`\n",
    "   - `PSYCH_body_self_image_questionnaire_negative_affect_score`\n",
    "   - `PSYCH_body_self_image_questionnaire_social_dependence_score`\n",
    "   \n",
    "These data provide people's idea of their own body image, as well as body image-related aspects of self-dissatisfaction, negative affect, and social dependence.\n",
    "\n",
    "2. **Big Five Personality Traits**:\n",
    "   - `PSYCH_big_five_inventory_agreeable_score`\n",
    "   - `PSYCH_big_five_inventory_conscientious_score`\n",
    "   - `PSYCH_big_five_inventory_extraverted_score`\n",
    "   - `PSYCH_big_five_inventory_neurotic_score`\n",
    "   - `PSYCH_big_five_inventory_open_score`\n",
    "   \n",
    "  Each trait affects self-perception in a unique way. Understand these variables to examine how personality traits influence body image satisfaction.\n",
    "\n",
    "3. **Social Days and Time Data**:\n",
    "   - `CONNECTION_social_days_family_p7d_grouped`\n",
    "   - `CONNECTION_social_days_friends_p7d_grouped`\n",
    "   - `CONNECTION_social_days_coworkers_and_classmates_p7d_grouped`\n",
    "   - `CONNECTION_social_days_neighbours_p7d_grouped`\n",
    "   - `CONNECTION_social_time_family_p7d_grouped`\n",
    "   - `CONNECTION_social_time_friends_p7d_grouped`\n",
    "   - `CONNECTION_social_time_coworkers_and_classmates_p7d_grouped`\n",
    "   - `CONNECTION_social_time_neighbours_p7d_grouped`\n",
    "   \n",
    "  Analyze how social days and time affect body image satisfaction, and whether it affects personality traits and body image.\n",
    "\n",
    "4. **Control Variables**:\n",
    "   - **Age** (`DEMO_age`)\n",
    "   - **Gender** (`DEMO_gender`)\n",
    "   \n",
    " Age and gender will be controlled for in the analyzes to ensure that the relationships between personality, social days and time, and body image are not confounded by age or gender differences."
   ]
  },
  {
   "cell_type": "markdown",
   "id": "afe3dace",
   "metadata": {},
   "source": [
    "### Analysis and Visualizations\n",
    "1. Histograms for Each Key Variable:\n",
    "- Purpose: To visualize the distribution of each body image and personality variable.\n",
    "- Justification: Histograms can quickly assess whether variables are normally distributed, skewed, or contain outliers. Understanding the distribution shapes can tell us the the choice of statistical tests for analyses."
   ]
  },
  {
   "cell_type": "markdown",
   "id": "1b4a77ec",
   "metadata": {},
   "source": [
    "### Hypothesis\n",
    "\n",
    "### 1. **Will Big Five personality traits affect self-perception and adaptability?**\n",
    "   - Null Hypothesis (H₀): Big Five personality traits have no effect on self-perception and adaptability. Changes in self-perception and adaptability are independent of personality trait variations.\n",
    "   - Alternative Hypothesis (Hₐ): Big Five personality traits significantly impact self-perception and adaptability, with certain traits (e.g., conscientiousness or openness) likely promoting positive self-perception and adaptability.\n",
    "\n",
    "### 2. **Will social days and times cause people to have a comparative mentality, impacting body image satisfaction?**\n",
    "   - Null Hypothesis (H₀): Social days and times have no effect on comparative mentality or body image satisfaction. Body image satisfaction levels remain consistent regardless of social engagement frequency.\n",
    "   - **Alternative Hypothesis (Hₐ)**: Social days and times significantly impact comparative mentality, which in turn affects body image satisfaction, potentially reducing satisfaction due to increased comparison.\n",
    "\n",
    "### 3. **Will Big Five personality traits affect social time and days?**\n",
    "   - Null Hypothesis (H₀): Big Five personality traits do not influence social engagement patterns, such as the amount of social time and the frequency of social days.\n",
    "   - Alternative Hypothesis (Hₐ): Big Five personality traits significantly affect social time and days, with traits like extraversion likely increasing social engagement and other traits showing distinct social patterns."
   ]
  },
  {
   "cell_type": "markdown",
   "id": "8cac7423",
   "metadata": {},
   "source": [
    "#### Group preference: \n",
    "I discuss the group project with Howard, Zachary, and Crystal in the reading week, so can you please make us a team? Thank you."
   ]
  },
  {
   "cell_type": "markdown",
   "id": "428db2df",
   "metadata": {},
   "source": [
    "### Steps to Perform the Analysis\n",
    "(This part ask Chatgpt)\n",
    "1. **Data Preparation**:\n",
    "   - **Identify Variables**: Select body image satisfaction scores (e.g., `PSYCH_body_self_image_questionnaire_negative_affect_score`) as the **dependent variable**. The **independent variables** are:\n",
    "      - Personality traits: neuroticism (`PSYCH_big_five_inventory_neurotic_score`) and conscientiousness (`PSYCH_big_five_inventory_conscientious_score`).\n",
    "      - Social engagement indicators: social days per week (`social_days_per_week`) and social times per day (`social_times_per_day`).\n",
    "   - **Standardize Variables**: Standardize all variables (z-scores) to ensure comparability, especially for interaction terms.\n",
    "   - **Interaction Terms**: Create interaction terms between each personality trait (neuroticism and conscientiousness) and social engagement indicators. For example:\n",
    "     - `neuroticism_social_days = neuroticism * social_days_per_week`\n",
    "     - `conscientious_social_times = conscientiousness * social_times_per_day`\n",
    "\n",
    "2. **Model Specification**:\n",
    "   - Fit a multiple regression model including:\n",
    "     - Main effects for neuroticism, conscientiousness, social days, and social times.\n",
    "     - Interaction terms for neuroticism × social days and conscientiousness × social times.\n",
    "\n",
    "3. **Interpretation**:\n",
    "   - **Main Effects**: Assess how each personality trait and social activity variable independently impacts body image satisfaction.\n",
    "   - **Interaction Effects**: Evaluate whether the interactions between social engagement and personality traits are significant. If significant:\n",
    "     - A positive coefficient for `neuroticism_social_days` would suggest that more frequent social days amplify the impact of neuroticism on body dissatisfaction, potentially due to social comparison effects.\n",
    "     - A positive coefficient for `conscientious_social_times` would suggest that conscientious individuals experience enhanced body image satisfaction on days with higher social engagement.\n",
    "\n",
    "4. **Model Diagnostics**:\n",
    "   - Check for multicollinearity (using VIF scores), which can be a concern in models with interaction terms.\n",
    "   - Plot residuals to assess normality and homoscedasticity assumptions, and use these diagnostics to refine or transform variables if needed.\n",
    "\n",
    "#### Three distinct analyses\n",
    "1. **Descriptive Analysis**: Summarize and describe the data using measures like mean, median, standard deviation, or frequency distributions. For example, examining the average scores for body image satisfaction, personality traits, and social engagement patterns across different demographic groups (e.g., age, gender) provides an overall view of the data and establishes foundational insights.\n",
    "   \n",
    "2. **Correlation Analysis**: Explore associations between variables, such as the correlation between personality traits (like neuroticism and conscientiousness) and body image satisfaction scores. This analysis focuses on understanding if, and how strongly, two variables are linearly related. Correlation coefficients (like Pearson’s \\( r \\)) can indicate positive, negative, or no correlation between traits and body image.\n",
    "\n",
    "3. **Multiple Regression Analysis with Interaction Effects**: This is a more complex analysis that explores how multiple independent variables (e.g., personality traits and social engagement frequency) jointly predict an outcome variable (e.g., body image satisfaction). Additionally, adding interaction terms allows you to examine if the relationship between personality traits and body image satisfaction changes depending on social engagement levels, providing insights into moderating effects.\n",
    "\n",
    "#### Assumptions to Consider\n",
    "\n",
    "- **Linearity**: Assumes a linear relationship between independent variables (personality traits and social engagement) and the dependent variable (body image satisfaction).\n",
    "- **Independence of Errors**: Assumes errors are independent across observations, which should hold if the data was collected randomly.\n",
    "- **Normality and Homoscedasticity of Residuals**: Assumes the residuals are normally distributed and have constant variance. We’ll validate these using residual plots.\n",
    "- **No Multicollinearity**: Assumes low multicollinearity between predictors. Since personality traits and social engagement patterns are conceptually distinct, we expect this assumption to hold.\n",
    "\n",
    "### Relevance to the Research Question\n",
    "\n",
    "This analysis approach allows us to:\n",
    "1. Determine how personality traits and social activity patterns independently influence body image.\n",
    "2. Test if social activity moderates the effects of specific personality traits on body image, providing insights into how certain personality types may be more affected by social environments, which is central to the research question."
   ]
  },
  {
   "cell_type": "markdown",
   "id": "abed7bed",
   "metadata": {},
   "source": [
    "#### Hypothesis by Chatgpt\n",
    "### Hypothesis for the Expected Results\n",
    "\n",
    "1. **Main Effects**:\n",
    "   - **Neuroticism**: Individuals with higher neuroticism scores are expected to have lower body image satisfaction scores. Neuroticism, often associated with emotional instability and self-consciousness, may increase vulnerability to negative self-perception.\n",
    "   - **Conscientiousness**: Higher conscientiousness may be associated with greater body image satisfaction. Conscientious individuals, who tend to be organized and self-disciplined, might have healthier lifestyle habits, promoting positive body image.\n",
    "   - **Social Engagement (Social Days and Times)**: Higher levels of social engagement (more frequent social days and times per day) might positively impact body image, as social support can enhance self-esteem and promote positive body perceptions. However, an alternative hypothesis could be that frequent social interaction increases exposure to social comparison, which could lead to a decrease in body image satisfaction for some individuals.\n",
    "\n",
    "2. **Interaction Effects**:\n",
    "   - **Neuroticism × Social Days**: For individuals with high neuroticism, increased social days per week may further reduce body image satisfaction, possibly due to heightened sensitivity to social comparison or perceived judgment from others. This interaction effect would indicate that social engagement intensifies the link between neuroticism and body dissatisfaction.\n",
    "   - **Conscientiousness × Social Times**: For individuals high in conscientiousness, higher social times per day might boost body image satisfaction, as conscientious individuals may benefit more from social support or reinforcement. This interaction would suggest that social engagement buffers body dissatisfaction among conscientious individuals.\n",
    "\n",
    "### Relevance of Hypothesized Results to the Research Question\n",
    "\n",
    "These hypothesized results directly address the research question, which seeks to understand how personality traits and social engagement together impact body image satisfaction:\n",
    "\n",
    "1. **Main Effects**: By confirming that certain personality traits (e.g., neuroticism and conscientiousness) have direct impacts on body image, we can identify individuals who may be more or less at risk for body dissatisfaction. Additionally, the role of social engagement in influencing body image, either positively or negatively, provides insight into how external social environments affect self-perception.\n",
    "\n",
    "2. **Interaction Effects**: If the interaction between social engagement and personality traits (especially neuroticism and conscientiousness) is significant, it will highlight how social factors may either exacerbate or mitigate body dissatisfaction for different personality profiles. For instance:\n",
    "   - A significant interaction between neuroticism and social days might suggest that highly neurotic individuals experience worsened body image with increased social interaction, pointing to the potential risks of social comparison.\n",
    "   - A positive interaction between conscientiousness and social times could reveal that conscientious individuals experience body satisfaction benefits from social engagement, suggesting that certain personality types are more resilient to body dissatisfaction through social support.\n",
    "\n",
    "### Relevance of Hypothetical Findings\n",
    "\n",
    "These findings would offer meaningful insights for designing targeted interventions:\n",
    "- **For High-Neuroticism Individuals**: Strategies could focus on reducing social comparison behaviors or fostering supportive, non-judgmental social environments to improve body image satisfaction.\n",
    "- **For High-Conscientiousness Individuals**: Emphasizing the importance of supportive social networks and positive social engagement could bolster body positivity.\n",
    "\n",
    "Overall, the expected results would provide a comprehensive view of how personality and social interaction together shape body image satisfaction, informing targeted psychological and social interventions to promote healthier self-perceptions based on individual personality profiles."
   ]
  }
 ],
 "metadata": {
  "kernelspec": {
   "display_name": "Python 3 (ipykernel)",
   "language": "python",
   "name": "python3"
  },
  "language_info": {
   "codemirror_mode": {
    "name": "ipython",
    "version": 3
   },
   "file_extension": ".py",
   "mimetype": "text/x-python",
   "name": "python",
   "nbconvert_exporter": "python",
   "pygments_lexer": "ipython3",
   "version": "3.11.6"
  }
 },
 "nbformat": 4,
 "nbformat_minor": 5
}
